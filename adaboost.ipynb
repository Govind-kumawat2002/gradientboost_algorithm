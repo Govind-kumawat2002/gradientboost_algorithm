{
 "cells": [
  {
   "cell_type": "markdown",
   "metadata": {},
   "source": [
    "The AdaBoost (Adaptive Boosting) algorithm is an ensemble learning method used primarily for classification problems. It builds a strong classifier by combining multiple weak classifiers, typically decision trees (stumps), in a sequential manner. The primary idea is to focus more on the instances that were misclassified by previous classifiers and improve their predictions in subsequent iterations.\n",
    "\n",
    "* Key Steps in the AdaBoost Algorithm:\n",
    "Initialize Weights:\n",
    "\n",
    "Assign equal weights to all training samples.\n",
    "Train Weak Classifiers:\n",
    "\n",
    "Train a weak classifier (e.g., a decision stump) on the weighted dataset.\n",
    "Calculate the error rate of the weak classifier.\n",
    "Update Classifier Weights:\n",
    "\n",
    "Assign a weight to the weak classifier based on its error rate. Classifiers with lower errors get higher weights, making them more influential in the final prediction.\n",
    "Update Data Weights:\n",
    "\n",
    "Increase the weights of misclassified samples so that they get more focus in the next iteration.\n",
    "Normalize the weights to maintain a valid probability distribution.\n",
    "Combine Weak Classifiers:\n",
    "\n",
    "* Aggregate the predictions of all weak classifiers, weighted by their importance, to make the final decision.\n",
    "<img src = \"adanossting.png\">\n",
    "<br><br>\n",
    "\n",
    "\n",
    "**Advantages of AdaBoost:**\n",
    "\n",
    "\n",
    "\n",
    "Improved Accuracy: Focuses on the hardest samples, often outperforming standalone classifiers.\n",
    "Flexibility: Can be used with various weak classifiers.\n",
    "Simplicity: Straightforward implementation and does not require parameter tuning.\n",
    "\n",
    "\n",
    "\n",
    "**Disadvantages:**\n",
    "\n",
    "\n",
    "\n",
    "Sensitive to Noisy Data: Overemphasis on misclassified samples can amplify the impact of noise.\n",
    "Computational Cost: May be slower for large datasets due to iterative training.\n",
    "Applications:\n",
    "Text classification\n",
    "Face detection\n",
    "Fraud detection\n",
    "Bioinformatics"
   ]
  },
  {
   "cell_type": "code",
   "execution_count": 1,
   "metadata": {},
   "outputs": [
    {
     "name": "stdout",
     "output_type": "stream",
     "text": [
      "Accuracy: 0.85\n"
     ]
    },
    {
     "name": "stderr",
     "output_type": "stream",
     "text": [
      "c:\\Users\\kumaw\\AppData\\Local\\Programs\\Python\\Python311\\Lib\\site-packages\\sklearn\\ensemble\\_weight_boosting.py:519: FutureWarning: The SAMME.R algorithm (the default) is deprecated and will be removed in 1.6. Use the SAMME algorithm to circumvent this warning.\n",
      "  warnings.warn(\n"
     ]
    }
   ],
   "source": [
    "# Import libraries\n",
    "from sklearn.ensemble import AdaBoostClassifier\n",
    "from sklearn.datasets import make_classification\n",
    "from sklearn.model_selection import train_test_split\n",
    "from sklearn.metrics import accuracy_score\n",
    "\n",
    "# Generate synthetic dataset\n",
    "X, y = make_classification(n_samples=1000, n_features=20, \n",
    "                           n_informative=15, n_redundant=5, \n",
    "                           random_state=42)\n",
    "\n",
    "# Split data into training and testing sets\n",
    "X_train, X_test, y_train, y_test = train_test_split(X, y, test_size=0.3, random_state=42)\n",
    "\n",
    "# Create the AdaBoost classifier\n",
    "adaboost = AdaBoostClassifier(n_estimators=50, random_state=42)\n",
    "\n",
    "# Train the model\n",
    "adaboost.fit(X_train, y_train)\n",
    "\n",
    "# Make predictions\n",
    "y_pred = adaboost.predict(X_test)\n",
    "\n",
    "# Evaluate the model\n",
    "accuracy = accuracy_score(y_test, y_pred)\n",
    "print(f\"Accuracy: {accuracy:.2f}\")\n"
   ]
  },
  {
   "cell_type": "code",
   "execution_count": null,
   "metadata": {},
   "outputs": [],
   "source": []
  }
 ],
 "metadata": {
  "kernelspec": {
   "display_name": "Python 3",
   "language": "python",
   "name": "python3"
  },
  "language_info": {
   "codemirror_mode": {
    "name": "ipython",
    "version": 3
   },
   "file_extension": ".py",
   "mimetype": "text/x-python",
   "name": "python",
   "nbconvert_exporter": "python",
   "pygments_lexer": "ipython3",
   "version": "3.11.5"
  }
 },
 "nbformat": 4,
 "nbformat_minor": 2
}
